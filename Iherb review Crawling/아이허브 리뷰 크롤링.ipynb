{
 "cells": [
  {
   "cell_type": "code",
   "execution_count": 1,
   "id": "03a4f313",
   "metadata": {},
   "outputs": [],
   "source": [
    "import requests\n",
    "import json\n",
    "import pandas as pd\n",
    "\n",
    "header = {\n",
    "'accept': 'text/html,application/xhtml+xml,application/xml;q=0.9,image/avif,image/webp,image/apng,*/*;q=0.8,application/signed-exchange;v=b3;q=0.9',\n",
    "'accept-encoding': 'gzip, deflate, br',\n",
    "'accept-language': 'en-US,en;q=0.9',\n",
    "'cache-control': 'no-cache',\n",
    "'cookie': 'mid=YfNn_wAEAAGcsrsw8WpRAvPXFgPo; ig_did=29AF9B8C-C62A-4EE5-BAC7-3C081EA9AB8F; ig_nrcb=1; csrftoken=W9GZ945eA65uZA87rBM7wnxZ8V4pj7wN; ds_user_id=1305778462; sessionid=1305778462%3AGNkC0wuSqS3mcZ%3A11; shbid=\"8520\\0541305778462\\0541674879758:01f7aceb492e0f47a3596c0a6dc1d9133e175142c2b6268267277abd1281e7dc2144372b\"; shbts=\"1643343758\\0541305778462\\0541674879758:01f73164fb8aef28db280f397fceae005a5cbc050174dff1e5d3710a1c86b8b02c9e022f\"; rur=\"VLL\\0541305778462\\0541674879768:01f70cac8366a361d7456f77ac0111584b70d57e0a8ad8b19b2c4fca58b7b9cad51b638c\"',\n",
    "'pragma': 'no-cache',\n",
    "'sec-ch-ua': '\" Not;A Brand\";v=\"99\", \"Google Chrome\";v=\"97\", \"Chromium\";v=\"97\"',\n",
    "'sec-ch-ua-mobile': '?0',\n",
    "'sec-ch-ua-platform': '\"macOS\"',\n",
    "'sec-fetch-dest': 'document',\n",
    "'sec-fetch-mode': 'navigate',\n",
    "'sec-fetch-site': 'none',\n",
    "'sec-fetch-user': '?1',\n",
    "'upgrade-insecure-requests': '1',\n",
    "'user-agent': 'Mozilla/5.0 (Macintosh; Intel Mac OS X 10_15_7) AppleWebKit/537.36 (KHTML, like Gecko) Chrome/97.0.4692.99 Safari/537.36'\n",
    "}\n",
    "\n",
    "prid = '89094' # 상품 ID\n",
    "maxpg = 19 # 페이지수\n",
    "result = []\n",
    "for pg in range(1, maxpg + 1):\n",
    "    print(pg)\n",
    "    url = 'https://kr.iherb.com/ugc/api/review/adaptive?pid={}&lc=ko-KR&textToSearch=&tag=&sortId=2&withImagesOnly=false&isShowTranslated=true&withUgcSummary=true&page={}&limit=1000'.format(prid, pg)\n",
    "    res = requests.get(url, headers=header)\n",
    "    review = res.json()\n",
    "    \n",
    "    for data in review['items']:\n",
    "        articledic = {}\n",
    "        articledic['제목'] = data['reviewTitle']\n",
    "        articledic['내용'] = data['reviewText']\n",
    "        articledic['날짜'] = data['postedDate'][:10]\n",
    "        articledic['별점'] = data['ratingValue']\n",
    "        try:\n",
    "            language = data['languageCode']\n",
    "            articledic['언어'] = language\n",
    "            if language == 'ko-KR':\n",
    "                articledic['글쓴이'] = data['customerNickname']\n",
    "                articledic['글쓴이 고유번호'] = data['customerProfileLink']\n",
    "            else:\n",
    "                pass\n",
    "        except:\n",
    "            articledic['글쓴이'] = data['customerNickname']\n",
    "            articledic['글쓴이 고유번호'] = data['customerProfileLink']  \n",
    "        result.append(articledic)\n",
    "resultdf = pd.DataFrame(result)\n",
    "resultdf.to_excel(\"아이허브 리뷰 크롤링_{}.xlsx\".format(prid), index=False)"
   ]
  }
 ],
 "metadata": {
  "kernelspec": {
   "display_name": "Python 3",
   "language": "python",
   "name": "python3"
  },
  "language_info": {
   "codemirror_mode": {
    "name": "ipython",
    "version": 3
   },
   "file_extension": ".py",
   "mimetype": "text/x-python",
   "name": "python",
   "nbconvert_exporter": "python",
   "pygments_lexer": "ipython3",
   "version": "3.8.8"
  }
 },
 "nbformat": 4,
 "nbformat_minor": 5
}
